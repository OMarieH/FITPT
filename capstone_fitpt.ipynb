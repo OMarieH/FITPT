{
  "cells": [
    {
      "cell_type": "markdown",
      "metadata": {
        "id": "view-in-github",
        "colab_type": "text"
      },
      "source": [
        "<a href=\"https://colab.research.google.com/github/OMarieH/FITPT/blob/main/capstone_fitpt.ipynb\" target=\"_parent\"><img src=\"https://colab.research.google.com/assets/colab-badge.svg\" alt=\"Open In Colab\"/></a>"
      ]
    },
    {
      "cell_type": "code",
      "execution_count": null,
      "metadata": {
        "id": "S7Nuue1Sq9-t"
      },
      "outputs": [],
      "source": [
        "!pip install -U langchain-openai\n",
        "!pip install -qU langchain\n",
        "!pip install pinecone-client"
      ]
    },
    {
      "cell_type": "code",
      "execution_count": null,
      "metadata": {
        "id": "uUNHqmIlq98c"
      },
      "outputs": [],
      "source": [
        "# Import Colab Secrets userdata module\n",
        "from google.colab import userdata\n",
        "\n",
        "# Set OpenAI API key\n",
        "import os\n",
        "os.environ[\"OPENAI_API_KEY\"] = userdata.get('OPENAI_API_KEY')\n",
        "\n",
        "# Set other API keys similarly\n",
        "os.environ[\"PINECONE_API_KEY\"] = userdata.get('PINECONE_API_KEY')"
      ]
    },
    {
      "cell_type": "code",
      "source": [
        "import time\n",
        "from pinecone import Pinecone\n",
        "from pinecone import ServerlessSpec\n",
        "\n",
        "pc = Pinecone(os.environ[\"PINECONE_API_KEY\"])\n",
        "\n",
        "spec = ServerlessSpec(cloud=\"aws\", region=\"us-east-1\")\n",
        "\n",
        "index_name = 'fit-pt-rag-test'\n",
        "\n",
        "# check if index already exists (it shouldn't if this is your first run)\n",
        "if index_name not in pc.list_indexes().names():\n",
        "    # if does not exist, create index\n",
        "    pc.create_index(\n",
        "        index_name,\n",
        "        dimension=1536,\n",
        "        metric='euclidean',\n",
        "        spec=spec\n",
        "    )\n",
        "    # wait for index to be initialized\n",
        "    while not pc.describe_index(index_name).status['ready']:\n",
        "        time.sleep(1)\n",
        "\n",
        "# connect to index\n",
        "index = pc.Index(index_name)\n",
        "time.sleep(1)\n",
        "# view index stats\n",
        "index.describe_index_stats()\n"
      ],
      "metadata": {
        "colab": {
          "base_uri": "https://localhost:8080/"
        },
        "id": "z-CoBYB1-P6s",
        "outputId": "5997aba5-02bd-4313-c1ce-3792fa430a74"
      },
      "execution_count": null,
      "outputs": [
        {
          "output_type": "execute_result",
          "data": {
            "text/plain": [
              "{'dimension': 1536,\n",
              " 'index_fullness': 0.0,\n",
              " 'namespaces': {'': {'vector_count': 486}},\n",
              " 'total_vector_count': 486}"
            ]
          },
          "metadata": {},
          "execution_count": 4
        }
      ]
    },
    {
      "cell_type": "code",
      "execution_count": null,
      "metadata": {
        "id": "Tq4DaZs2xydw",
        "colab": {
          "base_uri": "https://localhost:8080/"
        },
        "outputId": "d6318e0f-69c4-4adb-9a2d-9b5233f239a2"
      },
      "outputs": [
        {
          "output_type": "execute_result",
          "data": {
            "text/plain": [
              "31"
            ]
          },
          "metadata": {},
          "execution_count": 5
        }
      ],
      "source": [
        "from langchain_community.document_loaders import WebBaseLoader\n",
        "from langchain_community.document_loaders import TextLoader\n",
        "from langchain_openai import OpenAIEmbeddings\n",
        "from langchain_text_splitters import RecursiveCharacterTextSplitter\n",
        "\n",
        "loader = WebBaseLoader(\"https://health.clevelandclinic.org/how-to-overcome-gym-anxiety-gymtimidation\")\n",
        "docs = loader.load()\n",
        "text_splitter = RecursiveCharacterTextSplitter(chunk_size=1000, chunk_overlap=500)\n",
        "documents = text_splitter.split_documents(docs)\n",
        "\n",
        "len(documents)"
      ]
    },
    {
      "cell_type": "code",
      "source": [
        "from langchain.vectorstores import  Pinecone\n",
        "from langchain_openai import OpenAIEmbeddings\n",
        "\n",
        "embeddings = OpenAIEmbeddings(openai_api_key=os.environ[\"OPENAI_API_KEY\"])\n",
        "docsearch = Pinecone.from_texts([documents[0].page_content for t in docs], embeddings, index_name=index_name)"
      ],
      "metadata": {
        "id": "RkOPn9WJEHUs"
      },
      "execution_count": null,
      "outputs": []
    },
    {
      "cell_type": "code",
      "source": [
        "index.describe_index_stats()"
      ],
      "metadata": {
        "colab": {
          "base_uri": "https://localhost:8080/"
        },
        "id": "z8jFaWsiC4ka",
        "outputId": "7ad62539-add0-44cf-f134-1e046d75b044"
      },
      "execution_count": null,
      "outputs": [
        {
          "output_type": "execute_result",
          "data": {
            "text/plain": [
              "{'dimension': 1536,\n",
              " 'index_fullness': 0.0,\n",
              " 'namespaces': {'': {'vector_count': 486}},\n",
              " 'total_vector_count': 486}"
            ]
          },
          "metadata": {},
          "execution_count": 7
        }
      ]
    },
    {
      "cell_type": "code",
      "source": [
        "from langchain_openai import ChatOpenAI\n",
        "from langchain.chains import RetrievalQA\n",
        "\n",
        "llm = ChatOpenAI(\n",
        "    openai_api_key=os.environ[\"OPENAI_API_KEY\"],\n",
        "    model_name='gpt-3.5-turbo',\n",
        "    temperature=0.0)\n",
        "\n",
        "retriever = docsearch.as_retriever()\n",
        "docs = retriever.invoke(\"question\")"
      ],
      "metadata": {
        "id": "inxuEAZ6LXZz"
      },
      "execution_count": null,
      "outputs": []
    },
    {
      "cell_type": "code",
      "source": [
        "from langchain_core.pydantic_v1 import BaseModel, Field\n",
        "from langchain.output_parsers import ResponseSchema, StructuredOutputParser\n",
        "\n",
        "response_schemas = [\n",
        "    ResponseSchema(name=\"excercise\", description=\"The list of exercises for a workout plan\"),\n",
        "    ResponseSchema(name=\"journal\", description=\"The questions for the fitness journal\",)]\n",
        "output_parser = StructuredOutputParser.from_response_schemas(response_schemas)\n"
      ],
      "metadata": {
        "id": "P9duCtSbJVf4"
      },
      "execution_count": null,
      "outputs": []
    },
    {
      "cell_type": "code",
      "execution_count": null,
      "metadata": {
        "id": "svUcXsN7LFB1"
      },
      "outputs": [],
      "source": [
        "from langchain_openai import ChatOpenAI\n",
        "from langchain.prompts import ChatPromptTemplate\n",
        "\n",
        "format_instructions = output_parser.get_format_instructions()\n",
        "\n",
        "# Prompt\n",
        "prompt = ChatPromptTemplate.from_template(\n",
        "    template=\"\"\"You are a Personal Fitness Trainer. First Generate a detailed list of exercises that will be performed that day. Then use the context retrieved to create the workout and ask the client questions to add to a Fitness Journal. {context}\n",
        "\n",
        "Your task is to generate a workout based on the location the client is using.\n",
        "Location: {location}\n",
        "\n",
        " {format_instructions}\n",
        "\"\"\", partial_variables={\"format_instructions\": format_instructions},)\n",
        "\n",
        "# LLM\n",
        "chain = prompt | llm | output_parser\n"
      ]
    },
    {
      "cell_type": "code",
      "execution_count": null,
      "metadata": {
        "id": "LTUjyzqS68SP",
        "colab": {
          "base_uri": "https://localhost:8080/"
        },
        "outputId": "e7d99044-6f25-4c5d-b8e3-9292634ac691"
      },
      "outputs": [
        {
          "output_type": "execute_result",
          "data": {
            "text/plain": [
              "{'excercise': '1. Jumping Jacks - 3 sets of 20 reps\\n2. Bodyweight Squats - 3 sets of 15 reps\\n3. Push-ups - 3 sets of 12 reps\\n4. Plank - 3 sets of 30 seconds\\n5. Bicycle Crunches - 3 sets of 20 reps per side',\n",
              " 'journal': '1. How did you feel during the workout today?\\n2. Did you find any of the exercises challenging?\\n3. What modifications did you make to any of the exercises?\\n4. How would you rate your energy levels during the workout?\\n5. Did you enjoy working out at home?'}"
            ]
          },
          "metadata": {},
          "execution_count": 23
        }
      ],
      "source": [
        "# Run\n",
        "chain.invoke({\"context\":docs,\"location\":\"I'm working out at home.\"})"
      ]
    },
    {
      "cell_type": "code",
      "execution_count": null,
      "metadata": {
        "id": "2mXaTnDh68Pm"
      },
      "outputs": [],
      "source": []
    },
    {
      "cell_type": "code",
      "source": [],
      "metadata": {
        "id": "ahElNP51TJr_"
      },
      "execution_count": null,
      "outputs": []
    },
    {
      "cell_type": "code",
      "source": [],
      "metadata": {
        "id": "av-iBcRzTJlC"
      },
      "execution_count": null,
      "outputs": []
    },
    {
      "cell_type": "code",
      "execution_count": null,
      "metadata": {
        "id": "Ze1y2B0I8yG_"
      },
      "outputs": [],
      "source": [
        "from langchain.document_loaders import CSVLoader\n",
        "#https://www.neum.ai/post/llm-spreadsheets\n",
        "loader = CSVLoader('/content/megaG - megaGymDataset.csv.csv')\n",
        "data = loader.load()\n",
        "\n",
        "embedding_models = OpenAIEmbeddings()\n",
        "#test_splitter = CharacterTextSplitter( chunk_size=1000, chunk_overlap=200)\n",
        "#documents = text_splitter.split_documents(data)\n",
        "#print(data[0].page_content)\n"
      ]
    }
  ],
  "metadata": {
    "colab": {
      "provenance": [],
      "authorship_tag": "ABX9TyO8uus7ppmGyvtQVoZsNbD3",
      "include_colab_link": true
    },
    "kernelspec": {
      "display_name": "Python 3",
      "name": "python3"
    },
    "language_info": {
      "name": "python"
    }
  },
  "nbformat": 4,
  "nbformat_minor": 0
}