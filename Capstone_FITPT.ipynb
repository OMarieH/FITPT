{
  "cells": [
    {
      "cell_type": "markdown",
      "metadata": {
        "id": "view-in-github",
        "colab_type": "text"
      },
      "source": [
        "<a href=\"https://colab.research.google.com/github/OMarieH/FITPT/blob/main/Capstone_FITPT.ipynb\" target=\"_parent\"><img src=\"https://colab.research.google.com/assets/colab-badge.svg\" alt=\"Open In Colab\"/></a>"
      ]
    },
    {
      "cell_type": "code",
      "execution_count": null,
      "metadata": {
        "id": "S7Nuue1Sq9-t"
      },
      "outputs": [],
      "source": [
        "!pip install -U langchain-openai\n",
        "!pip install -qU langchain\n",
        "!pip install pinecone-client"
      ]
    },
    {
      "cell_type": "code",
      "execution_count": 2,
      "metadata": {
        "id": "uUNHqmIlq98c"
      },
      "outputs": [],
      "source": [
        "# Import Colab Secrets userdata module\n",
        "from google.colab import userdata\n",
        "\n",
        "# Set OpenAI API key\n",
        "import os\n",
        "os.environ[\"OPENAI_API_KEY\"] = userdata.get('OPENAI_API_KEY')\n",
        "\n",
        "# Set other API keys similarly\n",
        "os.environ[\"PINECONE_API_KEY\"] = userdata.get('PINECONE_API_KEY')"
      ]
    },
    {
      "cell_type": "code",
      "source": [
        "import time\n",
        "from pinecone import Pinecone\n",
        "from pinecone import ServerlessSpec\n",
        "\n",
        "pc = Pinecone(os.environ[\"PINECONE_API_KEY\"])\n",
        "\n",
        "spec = ServerlessSpec(cloud=\"aws\", region=\"us-east-1\")\n",
        "\n",
        "index_name = 'fit-pt-rag-test'\n",
        "\n",
        "# check if index already exists (it shouldn't if this is your first run)\n",
        "if index_name not in pc.list_indexes().names():\n",
        "    # if does not exist, create index\n",
        "    pc.create_index(\n",
        "        index_name,\n",
        "        dimension=1536,\n",
        "        metric='euclidean',\n",
        "        spec=spec\n",
        "    )\n",
        "    # wait for index to be initialized\n",
        "    while not pc.describe_index(index_name).status['ready']:\n",
        "        time.sleep(1)\n",
        "\n",
        "# connect to index\n",
        "index = pc.Index(index_name)\n",
        "time.sleep(1)\n",
        "# view index stats\n",
        "index.describe_index_stats()\n"
      ],
      "metadata": {
        "colab": {
          "base_uri": "https://localhost:8080/"
        },
        "id": "z-CoBYB1-P6s",
        "outputId": "b0bc2b6d-7db9-4a91-de47-b5da149544de"
      },
      "execution_count": 3,
      "outputs": [
        {
          "output_type": "execute_result",
          "data": {
            "text/plain": [
              "{'dimension': 1536,\n",
              " 'index_fullness': 0.0,\n",
              " 'namespaces': {'': {'vector_count': 487}},\n",
              " 'total_vector_count': 487}"
            ]
          },
          "metadata": {},
          "execution_count": 3
        }
      ]
    },
    {
      "cell_type": "code",
      "execution_count": 7,
      "metadata": {
        "id": "Tq4DaZs2xydw",
        "colab": {
          "base_uri": "https://localhost:8080/"
        },
        "outputId": "7af014d9-a963-45bc-e2c8-2d7ae30f9e05"
      },
      "outputs": [
        {
          "output_type": "execute_result",
          "data": {
            "text/plain": [
              "1"
            ]
          },
          "metadata": {},
          "execution_count": 7
        }
      ],
      "source": [
        "from langchain_community.document_loaders import WebBaseLoader\n",
        "from langchain_community.document_loaders import TextLoader\n",
        "from langchain_openai import OpenAIEmbeddings\n",
        "from langchain_text_splitters import RecursiveCharacterTextSplitter\n",
        "\n",
        "loader = WebBaseLoader(\"https://www.helpguide.org/articles/healthy-living/the-mental-health-benefits-of-exercise.htm\")\n",
        "docs = loader.load()\n",
        "text_splitter = RecursiveCharacterTextSplitter(chunk_size=1000, chunk_overlap=200)\n",
        "documents = text_splitter.split_documents(docs)\n",
        "\n",
        "len(documents)"
      ]
    },
    {
      "cell_type": "code",
      "source": [
        "from langchain.vectorstores import  Pinecone\n",
        "from langchain_openai import OpenAIEmbeddings\n",
        "\n",
        "embeddings = OpenAIEmbeddings(openai_api_key=os.environ[\"OPENAI_API_KEY\"])\n",
        "docsearch = Pinecone.from_texts([documents[0].page_content for t in docs], embeddings, index_name=index_name)"
      ],
      "metadata": {
        "id": "RkOPn9WJEHUs"
      },
      "execution_count": 8,
      "outputs": []
    },
    {
      "cell_type": "code",
      "source": [
        "index.describe_index_stats()"
      ],
      "metadata": {
        "colab": {
          "base_uri": "https://localhost:8080/"
        },
        "id": "z8jFaWsiC4ka",
        "outputId": "1b67c6d5-3120-4598-e3f7-38f4190efc22"
      },
      "execution_count": 9,
      "outputs": [
        {
          "output_type": "execute_result",
          "data": {
            "text/plain": [
              "{'dimension': 1536,\n",
              " 'index_fullness': 0.0,\n",
              " 'namespaces': {'': {'vector_count': 489}},\n",
              " 'total_vector_count': 489}"
            ]
          },
          "metadata": {},
          "execution_count": 9
        }
      ]
    },
    {
      "cell_type": "code",
      "source": [
        "from langchain_openai import ChatOpenAI\n",
        "from langchain.chains import RetrievalQA\n",
        "\n",
        "llm = ChatOpenAI(\n",
        "    openai_api_key=os.environ[\"OPENAI_API_KEY\"],\n",
        "    model_name='gpt-3.5-turbo',\n",
        "    temperature=0.0)\n",
        "\n",
        "retriever = docsearch.as_retriever()\n",
        "docs = retriever.invoke(\"question\")"
      ],
      "metadata": {
        "id": "inxuEAZ6LXZz"
      },
      "execution_count": 10,
      "outputs": []
    },
    {
      "cell_type": "code",
      "source": [
        "from langchain_core.pydantic_v1 import BaseModel, Field\n",
        "from langchain.output_parsers import ResponseSchema, StructuredOutputParser\n",
        "\n",
        "response_schemas = [\n",
        "    ResponseSchema(name=\"excercise\", description=\"The list of exercises for a workout plan\"),\n",
        "    ResponseSchema(name=\"journal\", description=\"The questions for the fitness journal\",)]\n",
        "output_parser = StructuredOutputParser.from_response_schemas(response_schemas)\n"
      ],
      "metadata": {
        "id": "P9duCtSbJVf4"
      },
      "execution_count": 11,
      "outputs": []
    },
    {
      "cell_type": "code",
      "execution_count": 12,
      "metadata": {
        "id": "svUcXsN7LFB1"
      },
      "outputs": [],
      "source": [
        "from langchain_openai import ChatOpenAI\n",
        "from langchain.prompts import ChatPromptTemplate\n",
        "\n",
        "format_instructions = output_parser.get_format_instructions()\n",
        "\n",
        "# Prompt\n",
        "prompt = ChatPromptTemplate.from_template(\n",
        "    template=\"\"\"You are a Personal Fitness Trainer. First Generate a detailed list of exercises that will be performed that day.\n",
        "    Then use the context retrieved to create the workout and ask the client questions about the workout to add to a Fitness Journal. {context}\n",
        "\n",
        "Your task is to generate a workout based on the location the client is using.\n",
        "Location: {location}\n",
        "\n",
        " {format_instructions}\n",
        "\"\"\", partial_variables={\"format_instructions\": format_instructions},)\n",
        "\n",
        "# LLM\n",
        "chain = prompt | llm | output_parser\n"
      ]
    },
    {
      "cell_type": "code",
      "execution_count": 14,
      "metadata": {
        "id": "LTUjyzqS68SP",
        "colab": {
          "base_uri": "https://localhost:8080/"
        },
        "outputId": "cd1fca4d-a21e-4a56-d935-90b38bd837c4"
      },
      "outputs": [
        {
          "output_type": "execute_result",
          "data": {
            "text/plain": [
              "{'excercise': '1. Jogging around the park for 10 minutes\\n2. Bodyweight squats x 15 reps\\n3. Push-ups x 12 reps\\n4. Lunges x 12 reps each leg\\n5. Bench dips x 15 reps\\n6. Plank for 30 seconds\\n7. Jumping jacks x 20 reps',\n",
              " 'journal': '1. How did you feel about working out in a park compared to a gym?\\n2. Did you enjoy the fresh air and scenery during your workout?\\n3. Were there any challenges or obstacles you faced while exercising outdoors?\\n4. How did the change in environment impact your motivation and energy levels during the workout?\\n5. Did you notice any differences in your performance or mindset while doing outdoor exercises?'}"
            ]
          },
          "metadata": {},
          "execution_count": 14
        }
      ],
      "source": [
        "# Run\n",
        "chain.invoke({\"context\":docs,\"location\":\"I'm working out at a park.\"})"
      ]
    },
    {
      "cell_type": "code",
      "execution_count": null,
      "metadata": {
        "id": "2mXaTnDh68Pm"
      },
      "outputs": [],
      "source": []
    },
    {
      "cell_type": "code",
      "source": [],
      "metadata": {
        "id": "ahElNP51TJr_"
      },
      "execution_count": null,
      "outputs": []
    },
    {
      "cell_type": "code",
      "source": [],
      "metadata": {
        "id": "av-iBcRzTJlC"
      },
      "execution_count": null,
      "outputs": []
    },
    {
      "cell_type": "code",
      "execution_count": null,
      "metadata": {
        "id": "Ze1y2B0I8yG_"
      },
      "outputs": [],
      "source": [
        "from langchain.document_loaders import CSVLoader\n",
        "#https://www.neum.ai/post/llm-spreadsheets\n",
        "loader = CSVLoader('/content/megaG - megaGymDataset.csv.csv')\n",
        "data = loader.load()\n",
        "\n",
        "embedding_models = OpenAIEmbeddings()\n",
        "#test_splitter = CharacterTextSplitter( chunk_size=1000, chunk_overlap=200)\n",
        "#documents = text_splitter.split_documents(data)\n",
        "#print(data[0].page_content)\n"
      ]
    }
  ],
  "metadata": {
    "colab": {
      "provenance": [],
      "authorship_tag": "ABX9TyO0orDgKDZmqClEdo0hQ39K",
      "include_colab_link": true
    },
    "kernelspec": {
      "display_name": "Python 3",
      "name": "python3"
    },
    "language_info": {
      "name": "python"
    }
  },
  "nbformat": 4,
  "nbformat_minor": 0
}